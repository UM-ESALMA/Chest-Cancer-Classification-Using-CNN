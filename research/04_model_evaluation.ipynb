{
 "cells": [
  {
   "cell_type": "markdown",
   "metadata": {},
   "source": [
    "\n",
    "\n",
    "------\n",
    "\n",
    "# **`Model Evaluation`**\n",
    "\n",
    "------\n",
    "\n",
    "\n"
   ]
  },
  {
   "cell_type": "code",
   "execution_count": 1,
   "metadata": {},
   "outputs": [
    {
     "name": "stdout",
     "output_type": "stream",
     "text": [
      "/e/Practice python/Chest Cancer Classification Using MLflow and DVC/research\n"
     ]
    }
   ],
   "source": [
    "!pwd"
   ]
  },
  {
   "cell_type": "code",
   "execution_count": 2,
   "metadata": {},
   "outputs": [],
   "source": [
    "# change directory\n",
    "import os\n",
    "os.chdir(\"../\")"
   ]
  },
  {
   "cell_type": "code",
   "execution_count": 3,
   "metadata": {},
   "outputs": [
    {
     "name": "stdout",
     "output_type": "stream",
     "text": [
      "/e/Practice python/Chest Cancer Classification Using MLflow and DVC\n"
     ]
    }
   ],
   "source": [
    "!pwd"
   ]
  },
  {
   "cell_type": "markdown",
   "metadata": {},
   "source": [
    "### **`Setting Up Model Evaluation Configrations`**"
   ]
  },
  {
   "cell_type": "code",
   "execution_count": 4,
   "metadata": {},
   "outputs": [],
   "source": [
    "import os\n",
    "import json\n",
    "import numpy as np\n",
    "from dotenv import load_dotenv\n",
    "\n",
    "# Load environment variables from .env file\n",
    "load_dotenv()\n",
    "\n",
    "# Define the environment variables at the module level\n",
    "MLFLOW_TRACKING_URI = os.getenv(\"MLFLOW_TRACKING_URI\")\n",
    "MLFLOW_TRACKING_USERNAME = os.getenv(\"MLFLOW_TRACKING_USERNAME\")\n",
    "MLFLOW_TRACKING_PASSWORD = os.getenv(\"MLFLOW_TRACKING_PASSWORD\")"
   ]
  },
  {
   "cell_type": "code",
   "execution_count": 5,
   "metadata": {},
   "outputs": [
    {
     "name": "stderr",
     "output_type": "stream",
     "text": [
      "WARNING:absl:Compiled the loaded model, but the compiled metrics have yet to be built. `model.compile_metrics` will be empty until you train or evaluate the model.\n"
     ]
    }
   ],
   "source": [
    "import tensorflow as tf\n",
    "\n",
    "# load the model\n",
    "model = tf.keras.models.load_model(\"artifacts/training/model.h5\")\n",
    "# Define metrics as per your original training setup\n",
    "model.compile(optimizer='adam',  # Use the optimizer you trained with\n",
    "              loss='sparse_categorical_crossentropy',  # Or the loss function you used\n",
    "              metrics=['accuracy'])  # Or the metrics you used\n"
   ]
  },
  {
   "cell_type": "code",
   "execution_count": 6,
   "metadata": {},
   "outputs": [],
   "source": [
    "# define model evaluation entity class\n",
    "\n",
    "from dataclasses import dataclass\n",
    "from pathlib import Path\n",
    "\n",
    "# Define a frozen dataclass to store evaluation configuration settings\n",
    "@dataclass(frozen=True)\n",
    "class EvaluationConfig:\n",
    "    # Path to the trained model\n",
    "    path_of_model: Path\n",
    "    \n",
    "    # Path to the training data\n",
    "    training_data: Path\n",
    "    \n",
    "    # A dictionary to hold all parameters related to the evaluation\n",
    "    all_params: dict\n",
    "    \n",
    "    # URI for the MLflow tracking server\n",
    "    mlflow_uri: str\n",
    "    \n",
    "    # List specifying the image size parameters\n",
    "    params_image_size: list\n",
    "    \n",
    "    # Integer specifying the batch size for evaluation\n",
    "    params_batch_size: int"
   ]
  },
  {
   "cell_type": "code",
   "execution_count": 7,
   "metadata": {},
   "outputs": [],
   "source": [
    "from chest_cancer_classifier.constants import *\n",
    "from chest_cancer_classifier.utils.common_functions import read_yaml, create_directories, save_json"
   ]
  },
  {
   "cell_type": "code",
   "execution_count": 8,
   "metadata": {},
   "outputs": [],
   "source": [
    "# set up configuration manager\n",
    "\n",
    "class ConfigurationManager:\n",
    "    def __init__(\n",
    "        self, \n",
    "        config_filepath=CONFIG_FILE_PATH,  # Path to the configuration file\n",
    "        params_filepath=PARAMS_FILE_PATH   # Path to the parameters file\n",
    "    ):\n",
    "        # Read YAML configuration files and store the contents in self.config and self.params\n",
    "        self.config = read_yaml(config_filepath)\n",
    "        self.params = read_yaml(params_filepath)\n",
    "        \n",
    "        # Create necessary directories defined in the configuration\n",
    "        create_directories([self.config.artifacts_root])\n",
    "\n",
    "    def get_evaluation_config(self) -> EvaluationConfig:\n",
    "        # Create an instance of EvaluationConfig with specific parameters\n",
    "        eval_config = EvaluationConfig(\n",
    "            path_of_model=\"artifacts/training/model.h5\",  # Path to the trained model file\n",
    "            training_data=\"artifacts/data_ingestion/Chest-CT-Scan-data\",  # Path to the training data\n",
    "            mlflow_uri=\"https://dagshub.com/muhammadadilnaeem/Chest-Cancer-Classification-Using-MLflow-and-DVC.mlflow\",  # MLflow tracking URI\n",
    "            all_params=self.params,  # All parameters loaded from the parameters file\n",
    "            params_image_size=self.params.IMAGE_SIZE,  # Image size parameter from the parameters\n",
    "            params_batch_size=self.params.BATCH_SIZE  # Batch size parameter from the parameters\n",
    "        )\n",
    "        return eval_config  # Return the evaluation configuration instance"
   ]
  },
  {
   "cell_type": "code",
   "execution_count": null,
   "metadata": {},
   "outputs": [],
   "source": [
    "# Import the mlflow library for tracking machine learning experiments\n",
    "import mlflow\n",
    "\n",
    "# Import the Keras module from mlflow for tracking Keras models specifically\n",
    "import mlflow.keras\n",
    "\n",
    "# Import TensorFlow, a library for building and training machine learning models\n",
    "import tensorflow as tf\n",
    "\n",
    "# Import Path from the pathlib module to handle filesystem paths in an object-oriented way\n",
    "from pathlib import Path\n",
    "\n",
    "# Import urlparse from the urllib.parse module to parse URLs into components\n",
    "from urllib.parse import urlparse\n"
   ]
  },
  {
   "cell_type": "code",
   "execution_count": null,
   "metadata": {},
   "outputs": [],
   "source": [
    "class Evaluation:\n",
    "    def __init__(self, config: EvaluationConfig):\n",
    "        # Initialize the Evaluation class with the provided configuration\n",
    "        self.config = config\n",
    "\n",
    "    def _valid_generator(self):\n",
    "        # Create a data generator for validation images with specific configurations\n",
    "        datagenerator_kwargs = dict(\n",
    "            rescale=1./255,  # Normalize pixel values to [0, 1]\n",
    "            validation_split=0.30  # Use 30% of the data for validation\n",
    "        )\n",
    "\n",
    "        # Specify parameters for the data flow generator\n",
    "        dataflow_kwargs = dict(\n",
    "            target_size=self.config.params_image_size[:-1],  # Resize images to the target size, excluding the last dimension (channels)\n",
    "            batch_size=self.config.params_batch_size,  # Set the batch size for loading images\n",
    "            interpolation=\"bilinear\"  # Use bilinear interpolation for resizing\n",
    "        )\n",
    "\n",
    "        # Create a Keras ImageDataGenerator for validation data\n",
    "        valid_datagenerator = tf.keras.preprocessing.image.ImageDataGenerator(\n",
    "            **datagenerator_kwargs\n",
    "        )\n",
    "\n",
    "        # Generate batches of validation data from the specified directory\n",
    "        self.valid_generator = valid_datagenerator.flow_from_directory(\n",
    "            directory=self.config.training_data,  # Directory containing validation images\n",
    "            subset=\"validation\",  # Specify that this is the validation subset\n",
    "            shuffle=False,  # Do not shuffle the data\n",
    "            class_mode=\"sparse\",  # Set to \"sparse\" for integer labels\n",
    "            **dataflow_kwargs  # Pass the data flow parameters\n",
    "        )\n",
    "\n",
    "    @staticmethod\n",
    "    def load_model(path: Path) -> tf.keras.Model:\n",
    "        # Load a Keras model from the specified path\n",
    "        return tf.keras.models.load_model(path)\n",
    "\n",
    "    def evaluation(self):\n",
    "        # Load the model specified in the configuration\n",
    "        self.model = self.load_model(self.config.path_of_model)\n",
    "\n",
    "        # Recompile the model with binary_crossentropy to ensure correct configuration for binary classification\n",
    "        self.model.compile(optimizer=\"adam\", loss=\"sparse_categorical_crossentropy\", metrics=[\"accuracy\"])\n",
    "        \n",
    "        # Create the validation data generator\n",
    "        self._valid_generator()\n",
    "        \n",
    "        # Evaluate the model on the validation data\n",
    "        self.score = self.model.evaluate(self.valid_generator)\n",
    "        \n",
    "        # Save the evaluation scores\n",
    "        self.save_score()\n",
    "\n",
    "    def save_score(self):\n",
    "        # Save the evaluation scores (loss and accuracy) to a JSON file\n",
    "        scores = {\"loss\": self.score[0], \"accuracy\": self.score[1]}\n",
    "        save_json(path=Path(\"scores.json\"), data=scores)\n",
    "\n",
    "    def log_into_mlflow(self):\n",
    "        # Set the MLflow tracking URI from the configuration\n",
    "        mlflow.set_registry_uri(self.config.mlflow_uri)\n",
    "        \n",
    "        # Parse the tracking URI to determine the type of storage used\n",
    "        tracking_url_type_store = urlparse(mlflow.get_tracking_uri()).scheme\n",
    "        \n",
    "        # Set the experiment name\n",
    "        experiment_name = \"Model Evaluation Experimentation\" \n",
    "        mlflow.set_experiment(experiment_name)\n",
    "\n",
    "        # Start a new MLflow run to log parameters and metrics\n",
    "        with mlflow.start_run(run_name=\"Model Evaluation\"):\n",
    "            # Log parameters from the configuration\n",
    "            mlflow.log_params(self.config.all_params)\n",
    "            # Log evaluation metrics (loss and accuracy)\n",
    "            mlflow.log_metrics(\n",
    "                {\"loss\": self.score[0], \"accuracy\": self.score[1]}\n",
    "            )\n",
    "            # Check if the tracking URL is not a file store\n",
    "            if tracking_url_type_store != \"file\":\n",
    "                # Register the model with MLflow\n",
    "                mlflow.keras.log_model(self.model, \"model\", registered_model_name=\"VGG16Model\")\n",
    "                                \n",
    "            else:\n",
    "                # Log the model without registration if using file store\n",
    "                mlflow.keras.log_model(self.model, \"model\")\n"
   ]
  },
  {
   "cell_type": "code",
   "execution_count": 11,
   "metadata": {},
   "outputs": [
    {
     "name": "stderr",
     "output_type": "stream",
     "text": [
      "WARNING:absl:Compiled the loaded model, but the compiled metrics have yet to be built. `model.compile_metrics` will be empty until you train or evaluate the model.\n"
     ]
    },
    {
     "name": "stdout",
     "output_type": "stream",
     "text": [
      "Found 102 images belonging to 2 classes.\n"
     ]
    },
    {
     "name": "stderr",
     "output_type": "stream",
     "text": [
      "e:\\Practice python\\Chest Cancer Classification Using MLflow and DVC\\venv\\lib\\site-packages\\keras\\src\\trainers\\data_adapters\\py_dataset_adapter.py:121: UserWarning: Your `PyDataset` class should call `super().__init__(**kwargs)` in its constructor. `**kwargs` can include `workers`, `use_multiprocessing`, `max_queue_size`. Do not pass these arguments to `fit()`, as they will be ignored.\n",
      "  self._warn_if_super_not_called()\n"
     ]
    },
    {
     "name": "stdout",
     "output_type": "stream",
     "text": [
      "\u001b[1m7/7\u001b[0m \u001b[32m━━━━━━━━━━━━━━━━━━━━\u001b[0m\u001b[37m\u001b[0m \u001b[1m39s\u001b[0m 5s/step - accuracy: 1.0000 - loss: 0.0394\n"
     ]
    },
    {
     "name": "stderr",
     "output_type": "stream",
     "text": [
      "2024/11/13 21:34:13 WARNING mlflow.keras.save: You are saving a Keras model without specifying model signature.\n",
      "2024/11/13 21:34:28 WARNING mlflow.models.model: Model logged without a signature and input example. Please set `input_example` parameter when logging the model to auto infer the model signature.\n",
      "Registered model 'VGG16Model' already exists. Creating a new version of this model...\n",
      "2024/11/13 21:36:04 INFO mlflow.store.model_registry.abstract_store: Waiting up to 300 seconds for model version to finish creation. Model name: VGG16Model, version 4\n",
      "Created version '4' of model 'VGG16Model'.\n",
      "2024/11/13 21:36:04 INFO mlflow.tracking._tracking_service.client: 🏃 View run Model Evaluation at: https://dagshub.com/muhammadadilnaeem/Chest-Cancer-Classification-Using-MLflow-and-DVC.mlflow/#/experiments/2/runs/7f9f4d2eff2742d89a13cd2320598f23.\n",
      "2024/11/13 21:36:04 INFO mlflow.tracking._tracking_service.client: 🧪 View experiment at: https://dagshub.com/muhammadadilnaeem/Chest-Cancer-Classification-Using-MLflow-and-DVC.mlflow/#/experiments/2.\n"
     ]
    }
   ],
   "source": [
    "try:\n",
    "    # Initialize the ConfigurationManager to load configurations\n",
    "    config = ConfigurationManager()\n",
    "    \n",
    "    # Retrieve the evaluation configuration from the ConfigurationManager\n",
    "    eval_config = config.get_evaluation_config()\n",
    "    \n",
    "    # Create an instance of the Evaluation class using the evaluation configuration\n",
    "    evaluation = Evaluation(eval_config)\n",
    "    \n",
    "    # Perform the evaluation process (load model, generate validation data, evaluate)\n",
    "    evaluation.evaluation()\n",
    "    \n",
    "    # Log the evaluation results and model information to MLflow\n",
    "    evaluation.log_into_mlflow()\n",
    "\n",
    "except Exception as e:\n",
    "    # Catch any exceptions that occur during the process and re-raise them\n",
    "    raise e"
   ]
  },
  {
   "cell_type": "code",
   "execution_count": 14,
   "metadata": {},
   "outputs": [
    {
     "name": "stderr",
     "output_type": "stream",
     "text": [
      "e:\\Practice python\\Chest Cancer Classification Using MLflow and DVC\\venv\\lib\\site-packages\\tqdm\\auto.py:21: TqdmWarning: IProgress not found. Please update jupyter and ipywidgets. See https://ipywidgets.readthedocs.io/en/stable/user_install.html\n",
      "  from .autonotebook import tqdm as notebook_tqdm\n",
      "Downloading artifacts: 100%|██████████| 6/6 [02:10<00:00, 21.77s/it]  \n",
      "e:\\Practice python\\Chest Cancer Classification Using MLflow and DVC\\venv\\lib\\site-packages\\keras\\src\\saving\\saving_lib.py:719: UserWarning: Skipping variable loading for optimizer 'adam', because it has 6 variables whereas the saved optimizer has 2 variables. \n",
      "  saveable.load_own_variables(weights_store.get(inner_path))\n"
     ]
    },
    {
     "name": "stdout",
     "output_type": "stream",
     "text": [
      "\u001b[1m1/1\u001b[0m \u001b[32m━━━━━━━━━━━━━━━━━━━━\u001b[0m\u001b[37m\u001b[0m \u001b[1m1s\u001b[0m 1s/step\n",
      "Single Image Prediction: [[0.9977822 0.0022178]]\n"
     ]
    }
   ],
   "source": [
    "import mlflow\n",
    "import numpy as np\n",
    "from keras.preprocessing import image\n",
    "\n",
    "# Define the path to the logged MLflow model\n",
    "logged_model = 'runs:/7f9f4d2eff2742d89a13cd2320598f23/model'\n",
    "\n",
    "# Load the model as an MLflow PyFunc model\n",
    "loaded_model = mlflow.pyfunc.load_model(logged_model)\n",
    "\n",
    "# Load and preprocess a single image\n",
    "img_path = r'E:\\Practice python\\Chest Cancer Classification Using MLflow and DVC\\artifacts\\data_ingestion\\Chest-CT-Scan-data\\adenocarcinoma\\000005 (3).png'\n",
    "img = image.load_img(img_path, target_size=(224, 224))\n",
    "\n",
    "# Convert the image to an array and preprocess\n",
    "img_array = image.img_to_array(img)\n",
    "img_array = np.expand_dims(img_array, axis=0)\n",
    "img_array /= 255.0\n",
    "\n",
    "# Predict on the preprocessed image data\n",
    "predictions = loaded_model.predict(img_array)\n",
    "print(\"Single Image Prediction:\", predictions)"
   ]
  },
  {
   "cell_type": "code",
   "execution_count": 13,
   "metadata": {},
   "outputs": [
    {
     "name": "stdout",
     "output_type": "stream",
     "text": [
      "2.18.0\n",
      "3.6.0\n"
     ]
    }
   ],
   "source": [
    "import tensorflow as tf\n",
    "print(tf.__version__)\n",
    "print(tf.keras.__version__)"
   ]
  },
  {
   "cell_type": "markdown",
   "metadata": {},
   "source": [
    "----"
   ]
  }
 ],
 "metadata": {
  "kernelspec": {
   "display_name": "Python 3",
   "language": "python",
   "name": "python3"
  },
  "language_info": {
   "codemirror_mode": {
    "name": "ipython",
    "version": 3
   },
   "file_extension": ".py",
   "mimetype": "text/x-python",
   "name": "python",
   "nbconvert_exporter": "python",
   "pygments_lexer": "ipython3",
   "version": "3.10.15"
  }
 },
 "nbformat": 4,
 "nbformat_minor": 2
}
